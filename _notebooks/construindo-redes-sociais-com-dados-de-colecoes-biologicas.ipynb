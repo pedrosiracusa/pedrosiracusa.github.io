{
 "cells": [
  {
   "cell_type": "markdown",
   "metadata": {},
   "source": [
    "# Construindo redes sociais com dados de coleções biológicas"
   ]
  },
  {
   "cell_type": "markdown",
   "metadata": {},
   "source": [
    "Em um artigo anterior fiz uma breve caracterização das [redes sociais por trás do Herbário da UnB](https://medium.com/@pedrosiracusa/a-redes-sociais-por-tr%C3%A1s-do-herb%C3%A1rio-da-unb-e08980f049dc), mostrando uma nova perspectiva de aplicação para dados de coleções biológicas. Tal abordagem consiste em derivar interações sociais de colaboração entre coletores e caracterizar seus interesses taxonômicos a partir de registros de ocorrências de espécies, e incorpora conceitos e ferramentas vindos do campo de analítica de redes sociais.\n",
    "Tive a oportunidade de desenvolver estas ideias durante minha [pesquisa de mestrado](https://tede.lncc.br/handle/tede/279), que resultou na síntese de dois modelos baseados em redes: as **Redes Espécie-Coletor (SCN)**; e as **Redes de Colaboração de Coletores (CWNs)**. Caso você ainda não tenha ouvido falar nestes modelos, recomendo a leitura do meu [artigo de divulgação](https://medium.com/@pedrosiracusa/a-redes-sociais-por-tr%C3%A1s-do-herb%C3%A1rio-da-unb-e08980f049dc) antes de continuar."
   ]
  },
  {
   "cell_type": "markdown",
   "metadata": {},
   "source": [
    "Neste artigo demonstrarei o processo de construção destes modelos em 3 etapas, a partir de um conjunto de dados de ocorrência de espécies e usando a biblioteca [**Caryocar**](https://github.com/pedrosiracusa/caryocar/) (escrita na linguagem *Python*). Aqui usarei novamente o conjunto de [dados do Herbário da UnB](https://www.gbif.org/dataset/d82d5a18-0428-4e52-be16-f509153e8126) (sigla UB), que podem ser baixados através da plataforma GBIF."
   ]
  },
  {
   "cell_type": "markdown",
   "metadata": {},
   "source": [
    "Vamos começar importando as classes que implementam os modelos SCN e CWN:"
   ]
  },
  {
   "cell_type": "code",
   "execution_count": 1,
   "metadata": {
    "tags": [
     "remove_cell"
    ]
   },
   "outputs": [],
   "source": [
    "# este pedaço de código só é necessário para atualizar o PATH do Python\n",
    "import sys,os\n",
    "sys.path.insert(0,os.path.expanduser('~/Documents/caryocar'))"
   ]
  },
  {
   "cell_type": "code",
   "execution_count": 2,
   "metadata": {},
   "outputs": [],
   "source": [
    "from caryocar.models import CWN, SCN"
   ]
  },
  {
   "cell_type": "markdown",
   "metadata": {},
   "source": [
    "O pacote Caryocar também fornece algumas funções e classes auxiliares para realizar a limpeza dos dados."
   ]
  },
  {
   "cell_type": "code",
   "execution_count": 3,
   "metadata": {},
   "outputs": [],
   "source": [
    "from caryocar.cleaning import NamesAtomizer, namesFromString\n",
    "from caryocar.cleaning import normalize, read_NamesMap_fromJson\n",
    "from caryocar.cleaning import getNamesIndexes"
   ]
  },
  {
   "cell_type": "markdown",
   "metadata": {},
   "source": [
    "## Etapa 1. Leitura do conjunto de dados"
   ]
  },
  {
   "cell_type": "markdown",
   "metadata": {},
   "source": [
    "O primeiro passo é ler o conjunto de dados de ocorrência de espécies.\n",
    "Para isso vamos extender as funcionalidades da linguagem *Python* usando uma biblioteca muito útil para a análise de dados: a [Pandas](https://pandas.pydata.org/).\n",
    "Com esta biblioteca, podemos carregar, transformar e analisar nosso conjunto de dados no ambiente de programação."
   ]
  },
  {
   "cell_type": "code",
   "execution_count": 4,
   "metadata": {},
   "outputs": [],
   "source": [
    "import pandas as pd"
   ]
  },
  {
   "cell_type": "markdown",
   "metadata": {},
   "source": [
    "Com a função `read_csv` do *Pandas*, carregaremos nossos dados que estão no arquivo CSV e os colocaremos na estrutura de um *Data Frame*, que é basicamente uma tabela.\n",
    "Esta função espera receber o nome do arquivo CSV que contém os dados, bem como uma lista com os nomes das colunas que estamos interessados em carregar.\n",
    "Especificarei o caminho para o arquivo na variável `dsetPath` e a lista das colunas de interesse em `cols`.\n",
    "O dataframe ficará armazenado na variável `occs_df`.\n",
    "Para deixar este artigo o mais simples possível usarei apenas os campos essenciais:\n",
    "* `recordedBy`: Armazena os nomes dos coletores responsáveis pelo registro. Caso haja mais que 1 coletor, os nomes são separados por ponto-e-vírgula;\n",
    "* `species`: Armazena o nome científico, a nível de espécie, determinado para o espécime em questão."
   ]
  },
  {
   "cell_type": "code",
   "execution_count": 5,
   "metadata": {},
   "outputs": [],
   "source": [
    "dsetPath = '/home/pedro/datasets/ub_herbarium/occurrence.csv'\n",
    "cols = ['recordedBy','species']\n",
    "\n",
    "occs_df = pd.read_csv(dsetPath, sep='\\t', usecols=cols)"
   ]
  },
  {
   "cell_type": "markdown",
   "metadata": {},
   "source": [
    "Vamos dar uma olhada no jeitão do dataframe. Para isso, vamos pedir as 10 primeira linhas apenas."
   ]
  },
  {
   "cell_type": "code",
   "execution_count": 6,
   "metadata": {},
   "outputs": [
    {
     "data": {
      "text/html": [
       "<div>\n",
       "<style scoped>\n",
       "    .dataframe tbody tr th:only-of-type {\n",
       "        vertical-align: middle;\n",
       "    }\n",
       "\n",
       "    .dataframe tbody tr th {\n",
       "        vertical-align: top;\n",
       "    }\n",
       "\n",
       "    .dataframe thead th {\n",
       "        text-align: right;\n",
       "    }\n",
       "</style>\n",
       "<table border=\"1\" class=\"dataframe\">\n",
       "  <thead>\n",
       "    <tr style=\"text-align: right;\">\n",
       "      <th></th>\n",
       "      <th>species</th>\n",
       "      <th>recordedBy</th>\n",
       "    </tr>\n",
       "  </thead>\n",
       "  <tbody>\n",
       "    <tr>\n",
       "      <th>0</th>\n",
       "      <td>Lychnophora pinaster</td>\n",
       "      <td>Ferreira, VF</td>\n",
       "    </tr>\n",
       "    <tr>\n",
       "      <th>1</th>\n",
       "      <td>Lychnophora pinaster</td>\n",
       "      <td>Ferreira, VF</td>\n",
       "    </tr>\n",
       "    <tr>\n",
       "      <th>2</th>\n",
       "      <td>Lychnophora pinaster</td>\n",
       "      <td>Ferreira, VF</td>\n",
       "    </tr>\n",
       "    <tr>\n",
       "      <th>3</th>\n",
       "      <td>Lychnophora pinaster</td>\n",
       "      <td>Irwin, HS</td>\n",
       "    </tr>\n",
       "    <tr>\n",
       "      <th>4</th>\n",
       "      <td>Arundo donax</td>\n",
       "      <td>Gomes, SM; Silva, ALH</td>\n",
       "    </tr>\n",
       "    <tr>\n",
       "      <th>5</th>\n",
       "      <td>Arundo donax</td>\n",
       "      <td>Gomes, SM; Silva, ALH</td>\n",
       "    </tr>\n",
       "    <tr>\n",
       "      <th>6</th>\n",
       "      <td>Terminalia fagifolia</td>\n",
       "      <td>Viana, G</td>\n",
       "    </tr>\n",
       "    <tr>\n",
       "      <th>7</th>\n",
       "      <td>Dimorphandra mollis</td>\n",
       "      <td>Heringer, EP</td>\n",
       "    </tr>\n",
       "    <tr>\n",
       "      <th>8</th>\n",
       "      <td>Dimorphandra mollis</td>\n",
       "      <td>Heringer, EP</td>\n",
       "    </tr>\n",
       "    <tr>\n",
       "      <th>9</th>\n",
       "      <td>Caesalpinia echinata</td>\n",
       "      <td>Heringer, EP</td>\n",
       "    </tr>\n",
       "  </tbody>\n",
       "</table>\n",
       "</div>"
      ],
      "text/plain": [
       "                species             recordedBy\n",
       "0  Lychnophora pinaster           Ferreira, VF\n",
       "1  Lychnophora pinaster           Ferreira, VF\n",
       "2  Lychnophora pinaster           Ferreira, VF\n",
       "3  Lychnophora pinaster              Irwin, HS\n",
       "4          Arundo donax  Gomes, SM; Silva, ALH\n",
       "5          Arundo donax  Gomes, SM; Silva, ALH\n",
       "6  Terminalia fagifolia               Viana, G\n",
       "7   Dimorphandra mollis           Heringer, EP\n",
       "8   Dimorphandra mollis           Heringer, EP\n",
       "9  Caesalpinia echinata           Heringer, EP"
      ]
     },
     "execution_count": 6,
     "metadata": {},
     "output_type": "execute_result"
    }
   ],
   "source": [
    "occs_df.head(10)"
   ]
  },
  {
   "cell_type": "markdown",
   "metadata": {},
   "source": [
    "---"
   ]
  },
  {
   "cell_type": "markdown",
   "metadata": {},
   "source": [
    "## Etapa 2: Limpeza dos dados"
   ]
  },
  {
   "cell_type": "markdown",
   "metadata": {},
   "source": [
    "Antes de construir o modelo, precisamos fazer uma limpeza de dados para garantir que eles estejam no formato adequado para a construção dos modelos. \n",
    "O primeiro passo é filtrar os registros com elementos nulos (`NaN`) para cada um dos campos do dataframe. Um elemento nulo significa ausência de informação, e portanto não ajudará muito na construção dos nossos modelos.\n",
    "Vejamos o número de nulos em cada campo:"
   ]
  },
  {
   "cell_type": "code",
   "execution_count": 7,
   "metadata": {},
   "outputs": [
    {
     "data": {
      "text/plain": [
       "species       32711\n",
       "recordedBy        9\n",
       "dtype: int64"
      ]
     },
     "execution_count": 7,
     "metadata": {},
     "output_type": "execute_result"
    }
   ],
   "source": [
    "occs_df.isnull().sum()"
   ]
  },
  {
   "cell_type": "markdown",
   "metadata": {},
   "source": [
    "A informação de coletor está ausente em apenas 9 dos registros. Vamos simplesmente eliminá-los. Um outro ponto é que para simplificar nossa modelagem, vou apenas usar registros que tenham sido identificados ao nível de espécie. Isso significa que teremos que descartar 32711 registros, nos quais a informação sobre a identidade de espécie está ausente."
   ]
  },
  {
   "cell_type": "code",
   "execution_count": 8,
   "metadata": {},
   "outputs": [],
   "source": [
    "occs_df.dropna(how='any', inplace=True)"
   ]
  },
  {
   "cell_type": "markdown",
   "metadata": {},
   "source": [
    "Agora não temos mais nulos em nenhuma das colunas, e podemos prosseguir:"
   ]
  },
  {
   "cell_type": "code",
   "execution_count": 9,
   "metadata": {},
   "outputs": [
    {
     "data": {
      "text/plain": [
       "species       0\n",
       "recordedBy    0\n",
       "dtype: int64"
      ]
     },
     "execution_count": 9,
     "metadata": {},
     "output_type": "execute_result"
    }
   ],
   "source": [
    "occs_df.isnull().sum()"
   ]
  },
  {
   "cell_type": "markdown",
   "metadata": {},
   "source": [
    "### Atomização dos nomes de coletores"
   ]
  },
  {
   "cell_type": "markdown",
   "metadata": {},
   "source": [
    "O campo de coletores (`recordedBy`) é fundamental para nossa modelagem, mas infelizmente costuma ser um pouco problemático.\n",
    "O primeiro problema é que os nomes dos coletores não são **atômicos**. Isso significa múltiplos nomes podem ser codificados em um mesmo valor (no caso, a lista de nomes é codificada como uma única *string*, sendo cada nome separado por um ponto-e-vígula). \n",
    "\n",
    "Segundo as recomendações do [*Biodiversity Information Standards (TDWG)*](https://www.tdwg.org/), nomes de coletores devem ser incluídos, em geral, usando a seguinte regra: sobrenome com a primeira letra maiúscula, seguido por vírgula e espaço e iniciais do nome em letras maiúsculas, separadas por pontos (ex. Proença, C.E.B.).\n",
    "Além disso, o TDWG recomenda que o separador utilizado para delimitar nomes de coletore deva ser o caractere pipe ( `|` ).\n",
    "No entanto, o caractere usado no dataset do UB é o ponto-e-vírgula.\n",
    "Isso não será um grande problema no nosso caso, já que neste dataset o ponto-e-vírgula é usado de forma consistente, em quase todos os registros."
   ]
  },
  {
   "cell_type": "markdown",
   "metadata": {},
   "source": [
    "Para proceder com a atomização dos nomes utilizaremos uma classe auxiliar, chamada `NamesAtomizer`. Criaremos o objeto atomizador e atribuiremos à variável `na`. Passaremos a função `namesFromString` que especifica as regras usadas para separar os nomes."
   ]
  },
  {
   "cell_type": "code",
   "execution_count": 10,
   "metadata": {},
   "outputs": [],
   "source": [
    "na = NamesAtomizer(atomizeOp=namesFromString)"
   ]
  },
  {
   "cell_type": "markdown",
   "metadata": {},
   "source": [
    "O atomizador de nomes resolve a grande maioria dos casos. Mas existem alguns poucos registros com erros na delimitação dos nomes. Neste caso a correção deve ser feita fazendo a substituição em cada registro pela sua forma correta.\n",
    "Para o dataset do UB, estas substituições estão especificadas no arquivo armazenado na variável `names_replaces_file`, abaixo:"
   ]
  },
  {
   "cell_type": "code",
   "execution_count": 11,
   "metadata": {},
   "outputs": [],
   "source": [
    "names_replaces_file = '/home/pedro/data/ub_collectors_replaces.json'"
   ]
  },
  {
   "cell_type": "markdown",
   "metadata": {},
   "source": [
    "Só por curiosidade, vejamos o conteúdo deste arquivo:"
   ]
  },
  {
   "cell_type": "code",
   "execution_count": 12,
   "metadata": {},
   "outputs": [
    {
     "name": "stdout",
     "output_type": "stream",
     "text": [
      "{\r\n",
      "    \"_replaces\": {\r\n",
      "        \"Barbosa; M.G.\": \"Barbosa, M.G.\",\r\n",
      "        \"Bueno; S.B.\": \"Bueno, S.B.\",\r\n",
      "        \"Carboni, M; Faraco, AG; Soares; P.G.; Sampaio, D; Breier, TB\": \"Carboni, M; Faraco, AG; Soares, P.G.; Sampaio, D; Breier, TB\",\r\n",
      "        \"Hatschbach, G; M.\": \"Hatschbach, G; Hatschbach, M\",\r\n",
      "        \"Hällström; E.\": \"Hällström, E.\",\r\n",
      "        \"Irwin, HS; Souza, R; Santos; RR\": \"Irwin, HS; Souza, R; Santos, RR\",\r\n",
      "        \"Kirkbride Junior, JH; Ono; E.K.M; et al.\": \"Kirkbride Junior, JH; Ono, E.K.M; et al.\",\r\n",
      "        \"Quintiliano; F.J.; Colvéquia; L.P.T; Silva; D.R.\": \"Quintiliano, F.J.; Colvéquia, L.P.T; Silva, D.R.\",\r\n",
      "        \"Silva; D.R.; Colvéquia; L.P.T\": \"Silva, D.R.; Colvéquia, L.P.T\",\r\n",
      "        \"Sr. Air, Sr. Milton, Rodrigo\": \"Sr. Air; Sr. Milton; Rodrigo\",\r\n",
      "        \"Sônia / Josefina\": \"Sônia; Josefina\",\r\n",
      "        \"Yushun.; K.\": \"Yushun., K.\"\r\n",
      "    }\r\n",
      "}"
     ]
    }
   ],
   "source": [
    "! cat {names_replaces_file}"
   ]
  },
  {
   "cell_type": "markdown",
   "metadata": {},
   "source": [
    "Prosseguindo com a substituição:"
   ]
  },
  {
   "cell_type": "code",
   "execution_count": 13,
   "metadata": {},
   "outputs": [],
   "source": [
    "na.read_replaces(names_replaces_file)"
   ]
  },
  {
   "cell_type": "markdown",
   "metadata": {},
   "source": [
    "Agora, com o auxílio do atomizador de nomes, vamos adicionar uma nova coluna ao dataframe, contendo os nomes dos coletores atomizados. Ela se chamará `recordedBy_atomized`:"
   ]
  },
  {
   "cell_type": "code",
   "execution_count": 14,
   "metadata": {},
   "outputs": [],
   "source": [
    "occs_df['recordedBy_atomized'] = na.atomize(occs_df['recordedBy'])"
   ]
  },
  {
   "cell_type": "markdown",
   "metadata": {},
   "source": [
    "### Normalização e mapeamento de nomes"
   ]
  },
  {
   "cell_type": "markdown",
   "metadata": {},
   "source": [
    "Um segundo problema é que nomes de coletores podem ter sido escritos de algumas formas diferentes, seja por conta de erros ou omissão de partes do nome.\n",
    "Por exemplo, o nome 'Proença, C.E.B.' pode ter alguns variantes, incluindo 'Proenca, C.E.B,', 'Proença, C.E.', Proença, C.'.\n",
    "Precisamos pensar em uma forma para ligar todas essas variantes a um nome principal.\n",
    "\n",
    "A solução para este problema até o momento é armazenar um mapa ligando cada variante a uma forma normal do nome. O processo de **normalização** inclui a transformação do nome para uma forma simplificada. Isso significa que só usaremos caracteres em caixa-baixo, omitiremos acentos e pontuações, e removeremos caracteres não-alfanuméricos. \n",
    "No exemplo citado acima, todos os nomes seriam mapeados para 'proenca,ceb'."
   ]
  },
  {
   "cell_type": "markdown",
   "metadata": {},
   "source": [
    "Para o conjunto de dados do UB, já tenho um mapa de nomes pronto, guardado no seguinte arquivo:"
   ]
  },
  {
   "cell_type": "code",
   "execution_count": 15,
   "metadata": {},
   "outputs": [],
   "source": [
    "namesMap_file = '/home/pedro/data/ub_namesmap.json'"
   ]
  },
  {
   "cell_type": "markdown",
   "metadata": {},
   "source": [
    "Este arquivo é grande, mas vamos ver as 20 primeiras linhas para termos uma ideia:"
   ]
  },
  {
   "cell_type": "code",
   "execution_count": 16,
   "metadata": {},
   "outputs": [
    {
     "name": "stdout",
     "output_type": "stream",
     "text": [
      "{\r\n",
      "    \"_map_prim_norm\": {\r\n",
      "        \".\": \"\",\r\n",
      "        \"1980 Sino-Amer Exped.\": \"sinoamerexped\",\r\n",
      "        \"?\": \"\",\r\n",
      "        \"A.J.N.V.\": \"ajnv\",\r\n",
      "        \"A.M.\": \"am\",\r\n",
      "        \"Abbas, B\": \"abbas,b\",\r\n",
      "        \"Abdala, GC\": \"abdala,gc\",\r\n",
      "        \"Abdo, MSA\": \"abdo,msa\",\r\n",
      "        \"Abdon\": \"abdon\",\r\n",
      "        \"Abe, LB\": \"abe,lb\",\r\n",
      "        \"Abe, LM\": \"abe,lm\",\r\n",
      "        \"Abrahim, MA\": \"abrahim,ma\",\r\n",
      "        \"Abreu, CG\": \"abreu,cg\",\r\n",
      "        \"Abreu, GX\": \"abreu,gx\",\r\n",
      "        \"Abreu, I\": \"abreu,i\",\r\n",
      "        \"Abreu, LC\": \"abreu,lc\",\r\n",
      "        \"Abreu, LCR\": \"abreu,lcr\",\r\n",
      "        \"Abreu, M\": \"abreu,m\",\r\n"
     ]
    }
   ],
   "source": [
    "! head {namesMap_file} -n 20"
   ]
  },
  {
   "cell_type": "markdown",
   "metadata": {},
   "source": [
    "Note que alguns nomes de coletores que não eram nulos porêm remetem à falta da informação (por exemplo '.', '?') são mapeados para uma *string* vazia. Mais tarde iremos filtrar estes nomes."
   ]
  },
  {
   "cell_type": "markdown",
   "metadata": {},
   "source": [
    "Vamos agora ler o mapa de nomes do arquivo e armazená-lo na variável `nm`."
   ]
  },
  {
   "cell_type": "code",
   "execution_count": 17,
   "metadata": {},
   "outputs": [],
   "source": [
    "nm = read_NamesMap_fromJson(namesMap_file, normalizationFunc=normalize)"
   ]
  },
  {
   "cell_type": "markdown",
   "metadata": {},
   "source": [
    "Caso haja nomes de coletores que não estão no arquivo, vamos nos assegurar de que eles serão inseridos:"
   ]
  },
  {
   "cell_type": "code",
   "execution_count": 18,
   "metadata": {},
   "outputs": [],
   "source": [
    "collectors_names = list(set( n for n,st,num in na.getCachedNames() ))\n",
    "nm.addNames(collectors_names)"
   ]
  },
  {
   "cell_type": "markdown",
   "metadata": {},
   "source": [
    "Assim, este mapa nos permite buscar, para cada variante do nome, sua forma normal:"
   ]
  },
  {
   "cell_type": "code",
   "execution_count": 19,
   "metadata": {},
   "outputs": [
    {
     "data": {
      "text/plain": [
       "'proenca,ceb'"
      ]
     },
     "execution_count": 19,
     "metadata": {},
     "output_type": "execute_result"
    }
   ],
   "source": [
    "nm.getMap()['Proença, CEB']"
   ]
  },
  {
   "cell_type": "code",
   "execution_count": 20,
   "metadata": {},
   "outputs": [
    {
     "data": {
      "text/plain": [
       "'proenca,ceb'"
      ]
     },
     "execution_count": 20,
     "metadata": {},
     "output_type": "execute_result"
    }
   ],
   "source": [
    "nm.getMap()['Proença, C']"
   ]
  },
  {
   "cell_type": "markdown",
   "metadata": {},
   "source": [
    "A figura abaixo ilustra as etapas envolvidas no preprocessamento do campo dos coletores, conforme descrito."
   ]
  },
  {
   "cell_type": "markdown",
   "metadata": {},
   "source": [
    "![preprocessing_diagram](../assets/img/posts/preprocessing_diagram.jpg){:width=\"700px\"}"
   ]
  },
  {
   "cell_type": "markdown",
   "metadata": {},
   "source": [
    "### O índice de nomes"
   ]
  },
  {
   "cell_type": "markdown",
   "metadata": {},
   "source": [
    "Finalmente, vamos construir um índice de nomes, apenas para mantermos a referência de quais linhas do dataframe cada coletor aparece. Para isso usaremos a função `getNamesIndexes`. Precisamos informar o nome do dataframe, o nome da coluna que armazena os nomes atomizados e o mapa de nomes. Mas enfatizo que este passo não é necessário para a construção dos modelos (apesar de ser útil para algumas análises)."
   ]
  },
  {
   "cell_type": "code",
   "execution_count": 21,
   "metadata": {},
   "outputs": [],
   "source": [
    "ni = getNamesIndexes(occs_df,'recordedBy_atomized', namesMap=nm.getMap())"
   ]
  },
  {
   "cell_type": "markdown",
   "metadata": {},
   "source": [
    "---"
   ]
  },
  {
   "cell_type": "markdown",
   "metadata": {},
   "source": [
    "## Etapa 3: Construindo os modelos"
   ]
  },
  {
   "cell_type": "markdown",
   "metadata": {},
   "source": [
    "Chegamos na etapa que realmente interessa. Já temos um dataframe com os dados minimamente limpos e estruturados, e podemos então construir os modelos!"
   ]
  },
  {
   "cell_type": "markdown",
   "metadata": {},
   "source": [
    "## Rede Espécie-Coletor (SCN)"
   ]
  },
  {
   "cell_type": "markdown",
   "metadata": {},
   "source": [
    "Redes espécie-coletor modelam relações de interesse, envolvendo necessariamente um **coletor** e uma **espécie**. A semântica destas relações pode ser descrita como `coletor -[registra]-> espécie` ou, por outro lado, `espécie-[é registrada por]-> coletor`. A figura abaixo exemplifica esta estrutura (a).\n",
    "\n",
    "Como o modelo envolve duas classes de entidades (coletores e espécies), existem duas perspectivas adicionais que podem ser exploradas: Podemos investigar o quão fortemente dois coletores estão associados entre si em termos de seus interesses em comum (b); bem como quão fortemente duas espécies estão associadas entre si em termos do conjunto de coletores que as registram (c).\n",
    "\n",
    "Nos referimos às perspectivas (b) e (c) como **projeções** da rede (a). Estas projeções são obtidas simplesmente ligando entidades da mesma classe tomando como base o número de entidades da classe oposta que eles compartilham, na estrutura (a)."
   ]
  },
  {
   "cell_type": "markdown",
   "metadata": {},
   "source": [
    "![scn](../assets/img/posts/scn.jpg){:width=\"500px\"}"
   ]
  },
  {
   "cell_type": "markdown",
   "metadata": {},
   "source": [
    "Vamos então ao código. Construiremos a rede espécie-coletor usando a classe `SCN`, disponível no pacote Caryocar. Para sua construção, devemos fornecer:\n",
    "* Uma lista de espécies, neste caso a coluna do dataframe `occs_df['species']`;\n",
    "* Uma lista contendo listas de coletores, neste caso a coluna do dataframe `occs_df['recordedBy_atomized']`;\n",
    "* Um mapa de nomes."
   ]
  },
  {
   "cell_type": "code",
   "execution_count": 22,
   "metadata": {},
   "outputs": [],
   "source": [
    "scn = SCN(species=occs_df['species'], collectors=occs_df['recordedBy_atomized'], namesMap=nm)"
   ]
  },
  {
   "cell_type": "markdown",
   "metadata": {},
   "source": [
    "Após a construção do modelo, vamos remover nomes de coletores indevidos, como 'etal', 'ilegivel', 'incognito'."
   ]
  },
  {
   "cell_type": "code",
   "execution_count": 23,
   "metadata": {},
   "outputs": [],
   "source": [
    "cols_to_filter = ['','ignorado','ilegivel','incognito','etal']\n",
    "scn.remove_nodes_from(cols_to_filter)"
   ]
  },
  {
   "cell_type": "markdown",
   "metadata": {},
   "source": [
    "Vejamos então um pequeno resumo sobre esta rede. Este pedaço de código pode ser um pouco feio, mas o que importa mesmo aqui são as informações imprimidas abaixo dele."
   ]
  },
  {
   "cell_type": "code",
   "execution_count": 24,
   "metadata": {},
   "outputs": [
    {
     "name": "stdout",
     "output_type": "stream",
     "text": [
      "Rede Espécie-Coletor (SCN)\n",
      "==========================\n",
      "Número total de coletores:6795\n",
      "Número total de espécies: 15374\n",
      "Em média, um coletor registra 21 espécies distintas\n",
      "Em média, uma espécie é registrada por 9 coletores distintos\n",
      "Número total de arestas: 143861\n",
      "\n",
      "Top-10 coletores mais produtivos:\n",
      "  irwin,hs (4557 especies distintas)\n",
      "  heringer,ep (2595 especies distintas)\n",
      "  anderson,wr (2163 especies distintas)\n",
      "  proenca,ceb (1906 especies distintas)\n",
      "  ratter,ja (1805 especies distintas)\n",
      "  faria,jeq (1764 especies distintas)\n",
      "  eiten,g (1598 especies distintas)\n",
      "  souza,rr (1555 especies distintas)\n",
      "  harley,rm (1514 especies distintas)\n",
      "  santos,rrb (1510 especies distintas)\n",
      "\n",
      "Top-10 espécies coletadas:\n",
      "  Myrcia splendens (388 coletores distintos)\n",
      "  Myrcia guianensis (318 coletores distintos)\n",
      "  Eugenia punicifolia (264 coletores distintos)\n",
      "  Casearia sylvestris (258 coletores distintos)\n",
      "  Palicourea rigida (241 coletores distintos)\n",
      "  Myrcia tomentosa (239 coletores distintos)\n",
      "  Qualea parviflora (232 coletores distintos)\n",
      "  Solanum lycocarpum (228 coletores distintos)\n",
      "  Piper aduncum (211 coletores distintos)\n",
      "  Miconia albicans (201 coletores distintos)\n"
     ]
    }
   ],
   "source": [
    "n_cols = len(scn.listCollectorsNodes())\n",
    "cols_degrees = scn.degree(scn.listCollectorsNodes())\n",
    "n_spp = len(scn.listSpeciesNodes())\n",
    "spp_degrees = scn.degree(scn.listSpeciesNodes())\n",
    "\n",
    "print(\n",
    "f\"\"\"Rede Espécie-Coletor (SCN)\n",
    "==========================\n",
    "Número total de coletores:{n_cols}\n",
    "Número total de espécies: {n_spp}\n",
    "Em média, um coletor registra {round( sum( k for n,k in cols_degrees)/n_cols)} espécies distintas\n",
    "Em média, uma espécie é registrada por {round( sum( k for n,k in spp_degrees)/n_spp)} coletores distintos\n",
    "Número total de arestas: {len(scn.edges)}\\n\"\"\")\n",
    "print(\"Top-10 coletores mais produtivos:\")\n",
    "for n,k in sorted(cols_degrees,key=lambda x:x[1],reverse=True)[:10]:\n",
    "    print(f\"  {n} ({k} especies distintas)\")\n",
    "print(\"\\nTop-10 espécies coletadas:\")\n",
    "for n,k in sorted(spp_degrees,key=lambda x:x[1],reverse=True)[:10]:\n",
    "    print(f\"  {n} ({k} coletores distintos)\")"
   ]
  },
  {
   "cell_type": "markdown",
   "metadata": {},
   "source": [
    "Um aspecto interessante a ser notado é a distribuição de grau (número de conexões de um vértice) nesta rede.\n",
    "Embora em média um coletor registre 21 espécies diferentes, os coletores mais produtivos registraram mais de 1000!\n",
    "De forma simlar, embora em média uma espécie seja registrada por 9 coletores distintos, as primeiras 10 foram registradas por mais de 200 coletores cada.\n",
    "Embora esteja fora do escopo deste artigo, é fácil mostrar que a distribuição desta rede está longe de ser normal. Na verdade, é aproximada por uma lei de potência."
   ]
  },
  {
   "cell_type": "markdown",
   "metadata": {},
   "source": [
    "Isso significa que enquanto uma grande maioria de coletores registra pouquíssimas espécies diferentes, alguns poucos (chamados *hubs*, ou coletores-chave) registram um número muito acima da média.\n",
    "De forma análoga enquanto uma grande maioria de espécies foi coletadas por apenas um ou poucos coletores diferentes, algumas poucas foram coletadas por um grande número de coletores distintos."
   ]
  },
  {
   "cell_type": "markdown",
   "metadata": {},
   "source": [
    "## Rede de Colaboração de Coletores (CWN)"
   ]
  },
  {
   "cell_type": "markdown",
   "metadata": {},
   "source": [
    "Redes de colaboração de coletores (CWNs), como o nome sugere, modelam relações de colaboração que se estabelecem entre coletores enquanto registram espécies em campo. Uma ligação entre pares de coletores é criada ou fortalecida cada vez que eles co-autoram um registro de espécie. Sendo assim, a semântica destas relações é descrita como `coletor -[coleta espécime com]-> coletor`. A figura abaixo ilustra a estrutura destas redes. É importante notar que, diferente das SCNs, nas CWNs a identidade taxonômica de cada registro não é representada em sua estrutura. Coletores que nunca colaboraram aparecem como vértices isolados na rede."
   ]
  },
  {
   "cell_type": "markdown",
   "metadata": {},
   "source": [
    "![cwn](../assets/img/posts/cwn.jpg){:width=\"300px\"}"
   ]
  },
  {
   "cell_type": "markdown",
   "metadata": {},
   "source": [
    "O pacote Caryocar também fornece a classe `SCN`, que facilita a construção de redes de colaboração de coletores. Para sua construção, devemos fornecer:\n",
    "\n",
    "* Uma lista contendo listas de coletores (cliques), neste caso a coluna do dataframe `occs_df['recordedBy_atomized']`;\n",
    "* Um mapa de nomes."
   ]
  },
  {
   "cell_type": "code",
   "execution_count": 25,
   "metadata": {},
   "outputs": [],
   "source": [
    "cwn = CWN(cliques=occs_df['recordedBy_atomized'],namesMap=nm)"
   ]
  },
  {
   "cell_type": "markdown",
   "metadata": {},
   "source": [
    "Assim como fizemos com a SCN, vamos remover nomes de coletores indevidos"
   ]
  },
  {
   "cell_type": "code",
   "execution_count": 26,
   "metadata": {},
   "outputs": [],
   "source": [
    "cols_to_filter = ['','ignorado','ilegivel','incognito','etal']\n",
    "cwn.remove_nodes_from(cols_to_filter)"
   ]
  },
  {
   "cell_type": "markdown",
   "metadata": {},
   "source": [
    "Vejamos um resumo sobre a rede:"
   ]
  },
  {
   "cell_type": "code",
   "execution_count": 27,
   "metadata": {},
   "outputs": [
    {
     "name": "stdout",
     "output_type": "stream",
     "text": [
      "Rede de Colaboração de Coletores (CWN)\n",
      "======================================\n",
      "Número total de coletores:6795\n",
      "Número total de arestas: 10435\n",
      "Em média, um coletor colabora com 3 pares ao longo de sua carreira\n",
      "No total 2684 coletores nunca colaboraram\n",
      "No total, 1578 coletores colaboraram com mais que 3 colegas\n",
      "\n",
      "Top-10 coletores mais colaborativos:\n",
      "  proenca,ceb (219 colegas)\n",
      "  faria,jeq (119 colegas)\n",
      "  ratter,ja (111 colegas)\n",
      "  munhoz,cbr (109 colegas)\n",
      "  silva,ma (93 colegas)\n",
      "  oliveira,rc (92 colegas)\n",
      "  harley,rm (90 colegas)\n",
      "  mendes,vc (89 colegas)\n",
      "  souza,vc (89 colegas)\n",
      "  carvalho,avm (88 colegas)\n",
      "\n",
      "Top-10 coletores sem colaborações com maior número de registros:\n",
      "  leite,alta (2094 registros, 0 colaborações)\n",
      "  touw,a (375 registros, 0 colaborações)\n",
      "  schiffner,v (283 registros, 0 colaborações)\n",
      "  oliveira,e (258 registros, 0 colaborações)\n",
      "  coelho,gsf (227 registros, 0 colaborações)\n",
      "  rocha,mal (162 registros, 0 colaborações)\n",
      "  aquino,ppu (155 registros, 0 colaborações)\n",
      "  pinto,rnm (144 registros, 0 colaborações)\n",
      "  silva,nf (133 registros, 0 colaborações)\n",
      "  rios,mns (133 registros, 0 colaborações)\n"
     ]
    }
   ],
   "source": [
    "n_cols = len(cwn.nodes)\n",
    "cols_degrees = cwn.degree()\n",
    "\n",
    "print(\n",
    "f\"\"\"Rede de Colaboração de Coletores (CWN)\n",
    "======================================\n",
    "Número total de coletores:{n_cols}\n",
    "Número total de arestas: {len(cwn.edges)}\n",
    "Em média, um coletor colabora com {round( sum(k for n,k in cols_degrees)/n_cols )} pares ao longo de sua carreira\n",
    "No total {len([ n for n,k in cols_degrees if k==0 ])} coletores nunca colaboraram\n",
    "No total, {len([ n for n,k in cols_degrees if k>3 ])} coletores colaboraram com mais que 3 colegas\\n\"\"\")\n",
    "print(\"Top-10 coletores mais colaborativos:\")\n",
    "for n,k in sorted(cols_degrees,key=lambda x:x[1],reverse=True)[:10]:\n",
    "    print(f\"  {n} ({k} colegas)\")\n",
    "    \n",
    "print(\"\\nTop-10 coletores sem colaborações com maior número de registros:\") \n",
    "for n,k, in sorted([ (n,d['count']) for n,d in cwn.nodes(data=True) if cwn.degree(n)==0 ],key=lambda x: x[1], reverse=True)[:10]:\n",
    "    print(f\"  {n} ({cwn.nodes[n]['count']} registros, 0 colaborações)\")"
   ]
  },
  {
   "cell_type": "markdown",
   "metadata": {},
   "source": [
    "## Considerações finais"
   ]
  },
  {
   "cell_type": "markdown",
   "metadata": {},
   "source": [
    "Meu objetivo neste artigo foi demonstrar o processo de construção dos modelos SCN e CWN a partir de um conjunto de dados de ocorrência de espécies, usando o pacote Caryocar.\n",
    "Mostrei também como proceder com a limpeza dos dados de ocorrência de espécies, fazendo todas as transformações necessárias para que o conjunto de dados torne-se adequado para a modelagem.\n",
    "\n",
    "Um ponto a ser ressaltado é sobre a importância em se verificar a qualidade do campo do coletor, normalmente subutilizado na maioria das aplicações de dados de coleções biológicas.\n",
    "Dentre os problemas mais comuns estão a inclusão apenas do coletor principal (sendo os coletores auxiliares omitidos ou agrupados no nome 'et. al'), o não-cumprimento dos padrões recomendados para a escrita dos nomes, e a ausência de identificadores únicos para a distinção dos coletores.\n",
    "De forma geral, estes fatores são a maior limitação para a construção dos modelos.\n",
    "A alta qualidade deste campo no conjunto de dados do herbário da UnB foi um dos fatores decisivos para que fosse escolhido como prova de conceito.\n",
    "\n",
    "Os modelos SCN e CWN permitem investigar o aspecto humano envolvido na formação de coleções biológicas, e portanto abrem portas para novos tipos de análises e aplicações para dados de ocorrência de espécies.\n",
    "Pretendo explorar e demonstrar algumas dessas possibilidades em artigos futuros."
   ]
  }
 ],
 "metadata": {
  "kernelspec": {
   "display_name": "Python 3",
   "language": "python",
   "name": "python3"
  },
  "language_info": {
   "codemirror_mode": {
    "name": "ipython",
    "version": 3
   },
   "file_extension": ".py",
   "mimetype": "text/x-python",
   "name": "python",
   "nbconvert_exporter": "python",
   "pygments_lexer": "ipython3",
   "version": "3.6.5"
  }
 },
 "nbformat": 4,
 "nbformat_minor": 2
}
